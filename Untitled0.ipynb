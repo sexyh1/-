{
  "nbformat": 4,
  "nbformat_minor": 0,
  "metadata": {
    "colab": {
      "name": "Untitled0.ipynb",
      "provenance": [],
      "authorship_tag": "ABX9TyMWAioPwAfqxLKVj/mKRpW0",
      "include_colab_link": true
    },
    "kernelspec": {
      "name": "python3",
      "display_name": "Python 3"
    },
    "language_info": {
      "name": "python"
    }
  },
  "cells": [
    {
      "cell_type": "markdown",
      "metadata": {
        "id": "view-in-github",
        "colab_type": "text"
      },
      "source": [
        "<a href=\"https://colab.research.google.com/github/sexyh1/-/blob/main/Untitled0.ipynb\" target=\"_parent\"><img src=\"https://colab.research.google.com/assets/colab-badge.svg\" alt=\"Open In Colab\"/></a>"
      ]
    },
    {
      "cell_type": "code",
      "execution_count": 3,
      "metadata": {
        "colab": {
          "base_uri": "https://localhost:8080/"
        },
        "id": "G_TJ_W7lvJ5J",
        "outputId": "a2a0aba0-8c84-4b80-e131-3f1fa74546c4"
      },
      "outputs": [
        {
          "output_type": "stream",
          "name": "stdout",
          "text": [
            "3개의 정수값을 입력하시오\n",
            "n1의 정수값을 입력: 42\n",
            "n2의 정수값을 입력: 445\n",
            "n3의 정수값을 입력: 5\n",
            "164.0\n"
          ]
        }
      ],
      "source": [
        "print(\"3개의 정수값을 입력하시오\")\n",
        "n1 = int(input(\"n1의 정수값을 입력: \"))\n",
        "n2 = int(input(\"n2의 정수값을 입력: \")) \n",
        "n3 = int(input(\"n3의 정수값을 입력: \")) \n",
        "\n",
        "t45otal = n1 + n2 + n3;\n",
        "average = total /3 ;\n",
        "print(average)"
      ]
    },
    {
      "cell_type": "code",
      "source": [
        "import math \n",
        "print(\"'a, b, c' 3개의 값을 입력하시오\")\n",
        "#from math import sqrt \n",
        "a = int(input(\"Enter the a: \"))\n",
        "b = int(input(\"Enter the b: \")) \n",
        "c = int(input(\"Enter the c: \")) \n",
        "\n",
        "d = math.sqrt(b*b) - (4*a*c);\n",
        "x1 = (-b+d) / (2 * a);\n",
        "x2 = (-b-d) / (2 * a);\n",
        "print(x1, x2)"
      ],
      "metadata": {
        "colab": {
          "base_uri": "https://localhost:8080/"
        },
        "id": "Frw22LDCMJJy",
        "outputId": "1e4e23d6-388c-4a28-eb27-e67e9444f9d7"
      },
      "execution_count": 7,
      "outputs": [
        {
          "output_type": "stream",
          "name": "stdout",
          "text": [
            "'a, b, c' 3개의 값을 입력하시오\n",
            "Enter the a: 4\n",
            "Enter the b: -4\n",
            "Enter the c: -8\n",
            "17.0 -16.0\n"
          ]
        }
      ]
    },
    {
      "cell_type": "code",
      "source": [
        "import math\n",
        "\n",
        "a = int(input(\"a의 값을 입력하세요: \"))\n",
        "b = int(input(\"b의 값을 입력하세요: \"))\n",
        "c = int(input(\"c의 값을 입력하세요: \"))\n",
        "x1 = ( (-b + (math.sqrt(math.pow(b,2) - 4 * a * c)))/2 * a)\n",
        "x2 = ( (-b - (math.sqrt(math.pow(b,2) - 4 * a * c)))/2 * a)\n",
        "print(\"x1 = \" , x1)\n",
        "print(\"x2 = \" , x2)"
      ],
      "metadata": {
        "colab": {
          "base_uri": "https://localhost:8080/"
        },
        "id": "qTd5bOsoOGZx",
        "outputId": "e4177674-d602-4910-ed44-6a3370db1bac"
      },
      "execution_count": 9,
      "outputs": [
        {
          "output_type": "stream",
          "name": "stdout",
          "text": [
            "a의 값을 입력하세요: 5\n",
            "b의 값을 입력하세요: -6\n",
            "c의 값을 입력하세요: -2\n",
            "x1 =  36.79449471770337\n",
            "x2 =  -6.79449471770337\n"
          ]
        }
      ]
    },
    {
      "cell_type": "code",
      "source": [
        "total = 0 \n",
        "counter = 1 \n",
        "while counter <= 10:\n",
        " grade=int(input (\"Enter grade: \"))\n",
        " total = grade + total\n",
        " counter = counter + 1\n",
        "average = total / 10\n",
        "\n",
        "print(average)"
      ],
      "metadata": {
        "colab": {
          "base_uri": "https://localhost:8080/"
        },
        "id": "fhkiC5tYPCSe",
        "outputId": "095862ad-ef79-4242-8ac4-936c9674b58a"
      },
      "execution_count": 12,
      "outputs": [
        {
          "output_type": "stream",
          "name": "stdout",
          "text": [
            "Enter grade: 43\n",
            "Enter grade: 23\n",
            "Enter grade: 321\n",
            "Enter grade: 234\n",
            "Enter grade: 132\n",
            "Enter grade: 312\n",
            "Enter grade: 567\n",
            "Enter grade: 1234\n",
            "Enter grade: 1235\n",
            "Enter grade: 1279\n",
            "538.0\n"
          ]
        }
      ]
    },
    {
      "cell_type": "code",
      "source": [
        ""
      ],
      "metadata": {
        "id": "DUh2vgJtQGIw"
      },
      "execution_count": null,
      "outputs": []
    }
  ]
}